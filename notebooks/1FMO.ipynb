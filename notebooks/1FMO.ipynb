{
 "cells": [
  {
   "cell_type": "markdown",
   "source": [
    "# Detection of solvent-exposed residues in a protein kinase\n",
    "\n",
    "This Jupyter notebook presents how to detect and visualize solvent-exposed residues in a catalytic subunit of a cAMP-dependent protein kinase (PDB ID: 1FMO) with NGL Viewer package."
   ],
   "metadata": {}
  },
  {
   "cell_type": "markdown",
   "source": [
    "# Requirements"
   ],
   "metadata": {}
  },
  {
   "cell_type": "code",
   "execution_count": 23,
   "source": [
    "import os\n",
    "import nglview\n",
    "from SERD import read_pdb, get_vertices, surface, interface, detect\n",
    "from pyKVFinder import export\n"
   ],
   "outputs": [],
   "metadata": {}
  },
  {
   "cell_type": "markdown",
   "source": [
    "## Detection of residues with SES surface (step-wise workflow)"
   ],
   "metadata": {}
  },
  {
   "cell_type": "code",
   "execution_count": 24,
   "source": [
    "# Define target stucture\n",
    "target = '../examples/1FMO.pdb'"
   ],
   "outputs": [],
   "metadata": {}
  },
  {
   "cell_type": "code",
   "execution_count": 25,
   "source": [
    "# Parameters\n",
    "step = 0.6\n",
    "probe = 1.4\n",
    "surface_representation = \"SES\"\n",
    "\n",
    "# Read atomic data\n",
    "atomic = read_pdb(target)\n",
    "\n",
    "# Get solvent-exposed surface\n",
    "vertices = get_vertices(atomic, probe, step)\n",
    "surf = surface(atomic, surface_representation, step, probe)\n",
    "\n",
    "# Save PDB file with surface points and biomolecule points\n",
    "export(\"surface.pdb\", surf + 1, None, vertices)\n",
    "\n",
    "# Get solvent-exposed residues\n",
    "residues = interface(surf, atomic, True, step, probe)\n",
    "\n",
    "# Display list of residues\n",
    "print(\"Solvent-exposed residues: \", end=\"\")\n",
    "print(residues)\n",
    "print(f\"Number of residues: {len(residues)}\")\n"
   ],
   "outputs": [
    {
     "output_type": "stream",
     "name": "stdout",
     "text": [
      "Solvent-exposed residues: [['13', 'E', 'GLU'], ['14', 'E', 'SER'], ['15', 'E', 'VAL'], ['16', 'E', 'LYS'], ['17', 'E', 'GLU'], ['18', 'E', 'PHE'], ['19', 'E', 'LEU'], ['20', 'E', 'ALA'], ['21', 'E', 'LYS'], ['22', 'E', 'ALA'], ['23', 'E', 'LYS'], ['24', 'E', 'GLU'], ['25', 'E', 'ASP'], ['26', 'E', 'PHE'], ['27', 'E', 'LEU'], ['28', 'E', 'LYS'], ['29', 'E', 'LYS'], ['30', 'E', 'TRP'], ['31', 'E', 'GLU'], ['32', 'E', 'THR'], ['33', 'E', 'PRO'], ['34', 'E', 'SER'], ['35', 'E', 'GLN'], ['36', 'E', 'ASN'], ['37', 'E', 'THR'], ['38', 'E', 'ALA'], ['39', 'E', 'GLN'], ['40', 'E', 'LEU'], ['41', 'E', 'ASP'], ['42', 'E', 'GLN'], ['44', 'E', 'ASP'], ['45', 'E', 'ARG'], ['46', 'E', 'ILE'], ['47', 'E', 'LYS'], ['48', 'E', 'THR'], ['49', 'E', 'LEU'], ['51', 'E', 'THR'], ['53', 'E', 'SER'], ['54', 'E', 'PHE'], ['56', 'E', 'ARG'], ['57', 'E', 'VAL'], ['58', 'E', 'MET'], ['59', 'E', 'LEU'], ['61', 'E', 'LYS'], ['62', 'E', 'HIS'], ['63', 'E', 'LYS'], ['64', 'E', 'GLU'], ['65', 'E', 'SER'], ['67', 'E', 'ASN'], ['68', 'E', 'HIS'], ['69', 'E', 'TYR'], ['70', 'E', 'ALA'], ['72', 'E', 'LYS'], ['73', 'E', 'ILE'], ['74', 'E', 'LEU'], ['75', 'E', 'ASP'], ['76', 'E', 'LYS'], ['77', 'E', 'GLN'], ['78', 'E', 'LYS'], ['80', 'E', 'VAL'], ['81', 'E', 'LYS'], ['82', 'E', 'LEU'], ['83', 'E', 'LYS'], ['84', 'E', 'GLN'], ['85', 'E', 'ILE'], ['86', 'E', 'GLU'], ['87', 'E', 'HIS'], ['88', 'E', 'THR'], ['89', 'E', 'LEU'], ['90', 'E', 'ASN'], ['91', 'E', 'GLU'], ['92', 'E', 'LYS'], ['93', 'E', 'ARG'], ['96', 'E', 'GLN'], ['98', 'E', 'VAL'], ['99', 'E', 'ASN'], ['100', 'E', 'PHE'], ['101', 'E', 'PRO'], ['103', 'E', 'LEU'], ['104', 'E', 'VAL'], ['105', 'E', 'LYS'], ['106', 'E', 'LEU'], ['107', 'E', 'GLU'], ['108', 'E', 'PHE'], ['109', 'E', 'SER'], ['110', 'E', 'PHE'], ['111', 'E', 'LYS'], ['112', 'E', 'ASP'], ['113', 'E', 'ASN'], ['114', 'E', 'SER'], ['115', 'E', 'ASN'], ['120', 'E', 'MET'], ['121', 'E', 'GLU'], ['122', 'E', 'TYR'], ['123', 'E', 'VAL'], ['124', 'E', 'ALA'], ['127', 'E', 'GLU'], ['129', 'E', 'PHE'], ['130', 'E', 'SER'], ['131', 'E', 'HIS'], ['133', 'E', 'ARG'], ['134', 'E', 'ARG'], ['135', 'E', 'ILE'], ['137', 'E', 'ARG'], ['138', 'E', 'PHE'], ['139', 'E', 'SER'], ['140', 'E', 'GLU'], ['141', 'E', 'PRO'], ['142', 'E', 'HIS'], ['144', 'E', 'ARG'], ['145', 'E', 'PHE'], ['148', 'E', 'ALA'], ['152', 'E', 'LEU'], ['155', 'E', 'GLU'], ['156', 'E', 'TYR'], ['158', 'E', 'HIS'], ['159', 'E', 'SER'], ['160', 'E', 'LEU'], ['161', 'E', 'ASP'], ['166', 'E', 'ASP'], ['168', 'E', 'LYS'], ['169', 'E', 'PRO'], ['170', 'E', 'GLU'], ['171', 'E', 'ASN'], ['173', 'E', 'LEU'], ['175', 'E', 'ASP'], ['176', 'E', 'GLN'], ['177', 'E', 'GLN'], ['179', 'E', 'TYR'], ['181', 'E', 'GLN'], ['183', 'E', 'THR'], ['184', 'E', 'ASP'], ['187', 'E', 'PHE'], ['189', 'E', 'LYS'], ['190', 'E', 'ARG'], ['191', 'E', 'VAL'], ['192', 'E', 'LYS'], ['194', 'E', 'ARG'], ['195', 'E', 'THR'], ['196', 'E', 'TRP'], ['197', 'E', 'TPO'], ['198', 'E', 'LEU'], ['199', 'E', 'CYS'], ['201', 'E', 'THR'], ['202', 'E', 'PRO'], ['203', 'E', 'GLU'], ['204', 'E', 'TYR'], ['205', 'E', 'LEU'], ['207', 'E', 'PRO'], ['208', 'E', 'GLU'], ['209', 'E', 'ILE'], ['210', 'E', 'ILE'], ['211', 'E', 'LEU'], ['212', 'E', 'SER'], ['213', 'E', 'LYS'], ['215', 'E', 'TYR'], ['216', 'E', 'ASN'], ['217', 'E', 'LYS'], ['221', 'E', 'TRP'], ['222', 'E', 'TRP'], ['229', 'E', 'TYR'], ['230', 'E', 'GLU'], ['235', 'E', 'TYR'], ['236', 'E', 'PRO'], ['238', 'E', 'PHE'], ['239', 'E', 'PHE'], ['240', 'E', 'ALA'], ['241', 'E', 'ASP'], ['242', 'E', 'GLN'], ['243', 'E', 'PRO'], ['244', 'E', 'ILE'], ['245', 'E', 'GLN'], ['246', 'E', 'ILE'], ['247', 'E', 'TYR'], ['248', 'E', 'GLU'], ['249', 'E', 'LYS'], ['251', 'E', 'VAL'], ['252', 'E', 'SER'], ['254', 'E', 'LYS'], ['255', 'E', 'VAL'], ['256', 'E', 'ARG'], ['257', 'E', 'PHE'], ['258', 'E', 'PRO'], ['259', 'E', 'SER'], ['260', 'E', 'HIS'], ['262', 'E', 'SER'], ['263', 'E', 'SER'], ['264', 'E', 'ASP'], ['266', 'E', 'LYS'], ['267', 'E', 'ASP'], ['270', 'E', 'ARG'], ['271', 'E', 'ASN'], ['273', 'E', 'LEU'], ['274', 'E', 'GLN'], ['275', 'E', 'VAL'], ['276', 'E', 'ASP'], ['277', 'E', 'LEU'], ['278', 'E', 'THR'], ['279', 'E', 'LYS'], ['281', 'E', 'PHE'], ['283', 'E', 'ASN'], ['284', 'E', 'LEU'], ['285', 'E', 'LYS'], ['286', 'E', 'ASN'], ['288', 'E', 'VAL'], ['289', 'E', 'ASN'], ['290', 'E', 'ASP'], ['292', 'E', 'LYS'], ['293', 'E', 'ASN'], ['294', 'E', 'HIS'], ['295', 'E', 'LYS'], ['296', 'E', 'TRP'], ['297', 'E', 'PHE'], ['298', 'E', 'ALA'], ['299', 'E', 'THR'], ['300', 'E', 'THR'], ['301', 'E', 'ASP'], ['302', 'E', 'TRP'], ['303', 'E', 'ILE'], ['304', 'E', 'ALA'], ['305', 'E', 'ILE'], ['306', 'E', 'TYR'], ['307', 'E', 'GLN'], ['308', 'E', 'ARG'], ['309', 'E', 'LYS'], ['310', 'E', 'VAL'], ['311', 'E', 'GLU'], ['312', 'E', 'ALA'], ['313', 'E', 'PRO'], ['314', 'E', 'PHE'], ['315', 'E', 'ILE'], ['316', 'E', 'PRO'], ['317', 'E', 'LYS'], ['318', 'E', 'PHE'], ['319', 'E', 'LYS'], ['321', 'E', 'PRO'], ['323', 'E', 'ASP'], ['324', 'E', 'THR'], ['325', 'E', 'SER'], ['326', 'E', 'ASN'], ['327', 'E', 'PHE'], ['328', 'E', 'ASP'], ['329', 'E', 'ASP'], ['330', 'E', 'TYR'], ['331', 'E', 'GLU'], ['332', 'E', 'GLU'], ['333', 'E', 'GLU'], ['334', 'E', 'GLU'], ['335', 'E', 'ILE'], ['336', 'E', 'ARG'], ['337', 'E', 'VAL'], ['338', 'E', 'SEP'], ['339', 'E', 'ILE'], ['340', 'E', 'ASN'], ['341', 'E', 'GLU'], ['342', 'E', 'LYS'], ['343', 'E', 'CYS'], ['345', 'E', 'LYS'], ['346', 'E', 'GLU'], ['347', 'E', 'PHE'], ['348', 'E', 'THR'], ['349', 'E', 'GLU'], ['350', 'E', 'PHE']]\n",
      "Number of residues: 263\n"
     ]
    }
   ],
   "metadata": {}
  },
  {
   "cell_type": "markdown",
   "source": [
    "### Visualization of grid points (surface and biomolecule representation)"
   ],
   "metadata": {}
  },
  {
   "cell_type": "code",
   "execution_count": 26,
   "source": [
    "# Visualize interface grid points\n",
    "\n",
    "# Create NGL Viewer widget\n",
    "view = nglview.NGLWidget()\n",
    "\n",
    "# Add protein\n",
    "p1 = view.add_component(target)\n",
    "p1.clear()\n",
    "p1.add_representation(\"surface\", color=\"gray\")\n",
    "\n",
    "# Add cavities\n",
    "p2 = view.add_component(\"surface.pdb\")\n",
    "p2.clear()\n",
    "p2.add_point(color=\"blue\", surfaceType=\"vws\", probeRadius=step / 2, selection=\"KAA\")\n",
    "\n",
    "# Display on NGL viewer\n",
    "view\n"
   ],
   "outputs": [
    {
     "output_type": "display_data",
     "data": {
      "application/vnd.jupyter.widget-view+json": {
       "version_major": 2,
       "version_minor": 0,
       "model_id": "86c522b865e448f0a6a1c644f039b80f"
      },
      "text/plain": [
       "NGLWidget()"
      ]
     },
     "metadata": {}
    }
   ],
   "metadata": {}
  },
  {
   "cell_type": "markdown",
   "source": [
    "### Visualization of solvent-exposed residues"
   ],
   "metadata": {}
  },
  {
   "cell_type": "code",
   "execution_count": 27,
   "source": [
    "# Visualize interface grid points\n",
    "\n",
    "# Create NGL Viewer widget\n",
    "view = nglview.NGLWidget()\n",
    "\n",
    "# Add protein\n",
    "p1 = view.add_component(target)\n",
    "p1.clear()\n",
    "p1.add_licorice(color=\"black\")\n",
    "\n",
    "# Select solvent-exposed residues\n",
    "selection = f\"{' or '.join([f'({sel[0]} and :{sel[1]})' for sel in residues])}\"\n",
    "\n",
    "# Add interface residues\n",
    "p1.add_licorice(color=\"red\", selection=selection)\n",
    "\n",
    "# Display on NGL viewer\n",
    "view\n"
   ],
   "outputs": [
    {
     "output_type": "display_data",
     "data": {
      "application/vnd.jupyter.widget-view+json": {
       "version_major": 2,
       "version_minor": 0,
       "model_id": "1413638e8e9b4d00858fa85c49a4fefd"
      },
      "text/plain": [
       "NGLWidget()"
      ]
     },
     "metadata": {}
    }
   ],
   "metadata": {}
  },
  {
   "cell_type": "markdown",
   "source": [
    "## Detection of residues with SES surface (full workflow)"
   ],
   "metadata": {}
  },
  {
   "cell_type": "code",
   "execution_count": 28,
   "source": [
    "# Parameters\n",
    "step = 0.6\n",
    "probe = 1.4\n",
    "surface_representation = \"SES\"\n",
    "\n",
    "# Detect solvent-exposed residues\n",
    "residues = detect(target, surface_representation, step, probe, None, True) \n",
    "\n",
    "# Display list of residues\n",
    "print('Solvent-exposed residues: ', end='')\n",
    "print(residues)\n",
    "print(f\"Number of residues: {len(residues)}\")"
   ],
   "outputs": [
    {
     "output_type": "stream",
     "name": "stdout",
     "text": [
      "Solvent-exposed residues: [['13', 'E', 'GLU'], ['14', 'E', 'SER'], ['15', 'E', 'VAL'], ['16', 'E', 'LYS'], ['17', 'E', 'GLU'], ['18', 'E', 'PHE'], ['19', 'E', 'LEU'], ['20', 'E', 'ALA'], ['21', 'E', 'LYS'], ['22', 'E', 'ALA'], ['23', 'E', 'LYS'], ['24', 'E', 'GLU'], ['25', 'E', 'ASP'], ['26', 'E', 'PHE'], ['27', 'E', 'LEU'], ['28', 'E', 'LYS'], ['29', 'E', 'LYS'], ['30', 'E', 'TRP'], ['31', 'E', 'GLU'], ['32', 'E', 'THR'], ['33', 'E', 'PRO'], ['34', 'E', 'SER'], ['35', 'E', 'GLN'], ['36', 'E', 'ASN'], ['37', 'E', 'THR'], ['38', 'E', 'ALA'], ['39', 'E', 'GLN'], ['40', 'E', 'LEU'], ['41', 'E', 'ASP'], ['42', 'E', 'GLN'], ['44', 'E', 'ASP'], ['45', 'E', 'ARG'], ['46', 'E', 'ILE'], ['47', 'E', 'LYS'], ['48', 'E', 'THR'], ['49', 'E', 'LEU'], ['51', 'E', 'THR'], ['53', 'E', 'SER'], ['54', 'E', 'PHE'], ['56', 'E', 'ARG'], ['57', 'E', 'VAL'], ['58', 'E', 'MET'], ['59', 'E', 'LEU'], ['61', 'E', 'LYS'], ['62', 'E', 'HIS'], ['63', 'E', 'LYS'], ['64', 'E', 'GLU'], ['65', 'E', 'SER'], ['67', 'E', 'ASN'], ['68', 'E', 'HIS'], ['69', 'E', 'TYR'], ['70', 'E', 'ALA'], ['72', 'E', 'LYS'], ['73', 'E', 'ILE'], ['74', 'E', 'LEU'], ['75', 'E', 'ASP'], ['76', 'E', 'LYS'], ['77', 'E', 'GLN'], ['78', 'E', 'LYS'], ['80', 'E', 'VAL'], ['81', 'E', 'LYS'], ['82', 'E', 'LEU'], ['83', 'E', 'LYS'], ['84', 'E', 'GLN'], ['85', 'E', 'ILE'], ['86', 'E', 'GLU'], ['87', 'E', 'HIS'], ['88', 'E', 'THR'], ['89', 'E', 'LEU'], ['90', 'E', 'ASN'], ['91', 'E', 'GLU'], ['92', 'E', 'LYS'], ['93', 'E', 'ARG'], ['96', 'E', 'GLN'], ['98', 'E', 'VAL'], ['99', 'E', 'ASN'], ['100', 'E', 'PHE'], ['101', 'E', 'PRO'], ['103', 'E', 'LEU'], ['104', 'E', 'VAL'], ['105', 'E', 'LYS'], ['106', 'E', 'LEU'], ['107', 'E', 'GLU'], ['108', 'E', 'PHE'], ['109', 'E', 'SER'], ['110', 'E', 'PHE'], ['111', 'E', 'LYS'], ['112', 'E', 'ASP'], ['113', 'E', 'ASN'], ['114', 'E', 'SER'], ['115', 'E', 'ASN'], ['120', 'E', 'MET'], ['121', 'E', 'GLU'], ['122', 'E', 'TYR'], ['123', 'E', 'VAL'], ['124', 'E', 'ALA'], ['127', 'E', 'GLU'], ['129', 'E', 'PHE'], ['130', 'E', 'SER'], ['131', 'E', 'HIS'], ['133', 'E', 'ARG'], ['134', 'E', 'ARG'], ['135', 'E', 'ILE'], ['137', 'E', 'ARG'], ['138', 'E', 'PHE'], ['139', 'E', 'SER'], ['140', 'E', 'GLU'], ['141', 'E', 'PRO'], ['142', 'E', 'HIS'], ['144', 'E', 'ARG'], ['145', 'E', 'PHE'], ['148', 'E', 'ALA'], ['152', 'E', 'LEU'], ['155', 'E', 'GLU'], ['156', 'E', 'TYR'], ['158', 'E', 'HIS'], ['159', 'E', 'SER'], ['160', 'E', 'LEU'], ['161', 'E', 'ASP'], ['166', 'E', 'ASP'], ['168', 'E', 'LYS'], ['169', 'E', 'PRO'], ['170', 'E', 'GLU'], ['171', 'E', 'ASN'], ['173', 'E', 'LEU'], ['175', 'E', 'ASP'], ['176', 'E', 'GLN'], ['177', 'E', 'GLN'], ['179', 'E', 'TYR'], ['181', 'E', 'GLN'], ['183', 'E', 'THR'], ['184', 'E', 'ASP'], ['187', 'E', 'PHE'], ['189', 'E', 'LYS'], ['190', 'E', 'ARG'], ['191', 'E', 'VAL'], ['192', 'E', 'LYS'], ['194', 'E', 'ARG'], ['195', 'E', 'THR'], ['196', 'E', 'TRP'], ['197', 'E', 'TPO'], ['198', 'E', 'LEU'], ['199', 'E', 'CYS'], ['201', 'E', 'THR'], ['202', 'E', 'PRO'], ['203', 'E', 'GLU'], ['204', 'E', 'TYR'], ['205', 'E', 'LEU'], ['207', 'E', 'PRO'], ['208', 'E', 'GLU'], ['209', 'E', 'ILE'], ['210', 'E', 'ILE'], ['211', 'E', 'LEU'], ['212', 'E', 'SER'], ['213', 'E', 'LYS'], ['215', 'E', 'TYR'], ['216', 'E', 'ASN'], ['217', 'E', 'LYS'], ['221', 'E', 'TRP'], ['222', 'E', 'TRP'], ['229', 'E', 'TYR'], ['230', 'E', 'GLU'], ['235', 'E', 'TYR'], ['236', 'E', 'PRO'], ['238', 'E', 'PHE'], ['239', 'E', 'PHE'], ['240', 'E', 'ALA'], ['241', 'E', 'ASP'], ['242', 'E', 'GLN'], ['243', 'E', 'PRO'], ['244', 'E', 'ILE'], ['245', 'E', 'GLN'], ['246', 'E', 'ILE'], ['247', 'E', 'TYR'], ['248', 'E', 'GLU'], ['249', 'E', 'LYS'], ['251', 'E', 'VAL'], ['252', 'E', 'SER'], ['254', 'E', 'LYS'], ['255', 'E', 'VAL'], ['256', 'E', 'ARG'], ['257', 'E', 'PHE'], ['258', 'E', 'PRO'], ['259', 'E', 'SER'], ['260', 'E', 'HIS'], ['262', 'E', 'SER'], ['263', 'E', 'SER'], ['264', 'E', 'ASP'], ['266', 'E', 'LYS'], ['267', 'E', 'ASP'], ['270', 'E', 'ARG'], ['271', 'E', 'ASN'], ['273', 'E', 'LEU'], ['274', 'E', 'GLN'], ['275', 'E', 'VAL'], ['276', 'E', 'ASP'], ['277', 'E', 'LEU'], ['278', 'E', 'THR'], ['279', 'E', 'LYS'], ['281', 'E', 'PHE'], ['283', 'E', 'ASN'], ['284', 'E', 'LEU'], ['285', 'E', 'LYS'], ['286', 'E', 'ASN'], ['288', 'E', 'VAL'], ['289', 'E', 'ASN'], ['290', 'E', 'ASP'], ['292', 'E', 'LYS'], ['293', 'E', 'ASN'], ['294', 'E', 'HIS'], ['295', 'E', 'LYS'], ['296', 'E', 'TRP'], ['297', 'E', 'PHE'], ['298', 'E', 'ALA'], ['299', 'E', 'THR'], ['300', 'E', 'THR'], ['301', 'E', 'ASP'], ['302', 'E', 'TRP'], ['303', 'E', 'ILE'], ['304', 'E', 'ALA'], ['305', 'E', 'ILE'], ['306', 'E', 'TYR'], ['307', 'E', 'GLN'], ['308', 'E', 'ARG'], ['309', 'E', 'LYS'], ['310', 'E', 'VAL'], ['311', 'E', 'GLU'], ['312', 'E', 'ALA'], ['313', 'E', 'PRO'], ['314', 'E', 'PHE'], ['315', 'E', 'ILE'], ['316', 'E', 'PRO'], ['317', 'E', 'LYS'], ['318', 'E', 'PHE'], ['319', 'E', 'LYS'], ['321', 'E', 'PRO'], ['323', 'E', 'ASP'], ['324', 'E', 'THR'], ['325', 'E', 'SER'], ['326', 'E', 'ASN'], ['327', 'E', 'PHE'], ['328', 'E', 'ASP'], ['329', 'E', 'ASP'], ['330', 'E', 'TYR'], ['331', 'E', 'GLU'], ['332', 'E', 'GLU'], ['333', 'E', 'GLU'], ['334', 'E', 'GLU'], ['335', 'E', 'ILE'], ['336', 'E', 'ARG'], ['337', 'E', 'VAL'], ['338', 'E', 'SEP'], ['339', 'E', 'ILE'], ['340', 'E', 'ASN'], ['341', 'E', 'GLU'], ['342', 'E', 'LYS'], ['343', 'E', 'CYS'], ['345', 'E', 'LYS'], ['346', 'E', 'GLU'], ['347', 'E', 'PHE'], ['348', 'E', 'THR'], ['349', 'E', 'GLU'], ['350', 'E', 'PHE']]\n",
      "Number of residues: 263\n"
     ]
    }
   ],
   "metadata": {}
  },
  {
   "cell_type": "markdown",
   "source": [
    "### Visualization of solvent-exposed residues"
   ],
   "metadata": {}
  },
  {
   "cell_type": "code",
   "execution_count": 29,
   "source": [
    "# Visualize interface grid points\n",
    "\n",
    "# Create NGL Viewer widget\n",
    "view = nglview.NGLWidget()\n",
    "\n",
    "# Add protein\n",
    "p1 = view.add_component(target)\n",
    "p1.clear()\n",
    "p1.add_licorice(color=\"black\")\n",
    "\n",
    "# Select solvent-exposed residues\n",
    "selection = f\"{' or '.join([f'({sel[0]} and :{sel[1]})' for sel in residues])}\"\n",
    "\n",
    "# Add interface residues\n",
    "p1.add_licorice(color=\"red\", selection=selection)\n",
    "\n",
    "# Display on NGL viewer\n",
    "view"
   ],
   "outputs": [
    {
     "output_type": "display_data",
     "data": {
      "application/vnd.jupyter.widget-view+json": {
       "version_major": 2,
       "version_minor": 0,
       "model_id": "d4e7766f2afc43cd80a466e0ca041a21"
      },
      "text/plain": [
       "NGLWidget()"
      ]
     },
     "metadata": {}
    }
   ],
   "metadata": {}
  },
  {
   "cell_type": "markdown",
   "source": [
    "## Tuning probe size for SES representation"
   ],
   "metadata": {}
  },
  {
   "cell_type": "code",
   "execution_count": 30,
   "source": [
    "# Parameters\n",
    "step = 0.6\n",
    "probe = 3.0\n",
    "surface_representation = \"SES\"\n",
    "\n",
    "# Detect solvent-exposed residues\n",
    "residues = detect(target, surface_representation, step, probe, None, True)\n",
    "\n",
    "# Display list of residues\n",
    "print(\"Solvent-exposed residues: \", end=\"\")\n",
    "print(residues)\n",
    "print(f\"Number of residues: {len(residues)}\")\n"
   ],
   "outputs": [
    {
     "output_type": "stream",
     "name": "stdout",
     "text": [
      "Solvent-exposed residues: [['13', 'E', 'GLU'], ['14', 'E', 'SER'], ['15', 'E', 'VAL'], ['16', 'E', 'LYS'], ['17', 'E', 'GLU'], ['18', 'E', 'PHE'], ['19', 'E', 'LEU'], ['20', 'E', 'ALA'], ['21', 'E', 'LYS'], ['22', 'E', 'ALA'], ['23', 'E', 'LYS'], ['24', 'E', 'GLU'], ['25', 'E', 'ASP'], ['27', 'E', 'LEU'], ['28', 'E', 'LYS'], ['29', 'E', 'LYS'], ['30', 'E', 'TRP'], ['31', 'E', 'GLU'], ['32', 'E', 'THR'], ['33', 'E', 'PRO'], ['34', 'E', 'SER'], ['35', 'E', 'GLN'], ['36', 'E', 'ASN'], ['37', 'E', 'THR'], ['38', 'E', 'ALA'], ['39', 'E', 'GLN'], ['40', 'E', 'LEU'], ['41', 'E', 'ASP'], ['42', 'E', 'GLN'], ['43', 'E', 'PHE'], ['44', 'E', 'ASP'], ['45', 'E', 'ARG'], ['46', 'E', 'ILE'], ['47', 'E', 'LYS'], ['48', 'E', 'THR'], ['51', 'E', 'THR'], ['53', 'E', 'SER'], ['54', 'E', 'PHE'], ['56', 'E', 'ARG'], ['58', 'E', 'MET'], ['59', 'E', 'LEU'], ['61', 'E', 'LYS'], ['62', 'E', 'HIS'], ['63', 'E', 'LYS'], ['64', 'E', 'GLU'], ['65', 'E', 'SER'], ['67', 'E', 'ASN'], ['68', 'E', 'HIS'], ['69', 'E', 'TYR'], ['73', 'E', 'ILE'], ['75', 'E', 'ASP'], ['76', 'E', 'LYS'], ['77', 'E', 'GLN'], ['78', 'E', 'LYS'], ['80', 'E', 'VAL'], ['81', 'E', 'LYS'], ['82', 'E', 'LEU'], ['83', 'E', 'LYS'], ['84', 'E', 'GLN'], ['85', 'E', 'ILE'], ['86', 'E', 'GLU'], ['87', 'E', 'HIS'], ['89', 'E', 'LEU'], ['90', 'E', 'ASN'], ['92', 'E', 'LYS'], ['93', 'E', 'ARG'], ['96', 'E', 'GLN'], ['99', 'E', 'ASN'], ['100', 'E', 'PHE'], ['101', 'E', 'PRO'], ['102', 'E', 'PHE'], ['105', 'E', 'LYS'], ['106', 'E', 'LEU'], ['107', 'E', 'GLU'], ['108', 'E', 'PHE'], ['110', 'E', 'PHE'], ['111', 'E', 'LYS'], ['112', 'E', 'ASP'], ['113', 'E', 'ASN'], ['114', 'E', 'SER'], ['115', 'E', 'ASN'], ['117', 'E', 'TYR'], ['121', 'E', 'GLU'], ['122', 'E', 'TYR'], ['123', 'E', 'VAL'], ['124', 'E', 'ALA'], ['127', 'E', 'GLU'], ['129', 'E', 'PHE'], ['130', 'E', 'SER'], ['131', 'E', 'HIS'], ['133', 'E', 'ARG'], ['134', 'E', 'ARG'], ['135', 'E', 'ILE'], ['137', 'E', 'ARG'], ['138', 'E', 'PHE'], ['139', 'E', 'SER'], ['140', 'E', 'GLU'], ['141', 'E', 'PRO'], ['142', 'E', 'HIS'], ['144', 'E', 'ARG'], ['155', 'E', 'GLU'], ['158', 'E', 'HIS'], ['159', 'E', 'SER'], ['161', 'E', 'ASP'], ['168', 'E', 'LYS'], ['170', 'E', 'GLU'], ['175', 'E', 'ASP'], ['176', 'E', 'GLN'], ['177', 'E', 'GLN'], ['179', 'E', 'TYR'], ['181', 'E', 'GLN'], ['187', 'E', 'PHE'], ['189', 'E', 'LYS'], ['190', 'E', 'ARG'], ['191', 'E', 'VAL'], ['192', 'E', 'LYS'], ['194', 'E', 'ARG'], ['195', 'E', 'THR'], ['196', 'E', 'TRP'], ['197', 'E', 'TPO'], ['198', 'E', 'LEU'], ['199', 'E', 'CYS'], ['201', 'E', 'THR'], ['202', 'E', 'PRO'], ['203', 'E', 'GLU'], ['205', 'E', 'LEU'], ['207', 'E', 'PRO'], ['208', 'E', 'GLU'], ['210', 'E', 'ILE'], ['211', 'E', 'LEU'], ['212', 'E', 'SER'], ['213', 'E', 'LYS'], ['215', 'E', 'TYR'], ['216', 'E', 'ASN'], ['217', 'E', 'LYS'], ['218', 'E', 'ALA'], ['221', 'E', 'TRP'], ['229', 'E', 'TYR'], ['230', 'E', 'GLU'], ['233', 'E', 'ALA'], ['235', 'E', 'TYR'], ['236', 'E', 'PRO'], ['239', 'E', 'PHE'], ['240', 'E', 'ALA'], ['241', 'E', 'ASP'], ['242', 'E', 'GLN'], ['243', 'E', 'PRO'], ['244', 'E', 'ILE'], ['245', 'E', 'GLN'], ['246', 'E', 'ILE'], ['247', 'E', 'TYR'], ['248', 'E', 'GLU'], ['249', 'E', 'LYS'], ['251', 'E', 'VAL'], ['252', 'E', 'SER'], ['254', 'E', 'LYS'], ['255', 'E', 'VAL'], ['256', 'E', 'ARG'], ['257', 'E', 'PHE'], ['258', 'E', 'PRO'], ['259', 'E', 'SER'], ['260', 'E', 'HIS'], ['261', 'E', 'PHE'], ['262', 'E', 'SER'], ['263', 'E', 'SER'], ['264', 'E', 'ASP'], ['266', 'E', 'LYS'], ['267', 'E', 'ASP'], ['270', 'E', 'ARG'], ['271', 'E', 'ASN'], ['273', 'E', 'LEU'], ['274', 'E', 'GLN'], ['275', 'E', 'VAL'], ['276', 'E', 'ASP'], ['277', 'E', 'LEU'], ['278', 'E', 'THR'], ['279', 'E', 'LYS'], ['281', 'E', 'PHE'], ['283', 'E', 'ASN'], ['284', 'E', 'LEU'], ['285', 'E', 'LYS'], ['286', 'E', 'ASN'], ['288', 'E', 'VAL'], ['289', 'E', 'ASN'], ['290', 'E', 'ASP'], ['292', 'E', 'LYS'], ['293', 'E', 'ASN'], ['294', 'E', 'HIS'], ['295', 'E', 'LYS'], ['296', 'E', 'TRP'], ['297', 'E', 'PHE'], ['298', 'E', 'ALA'], ['299', 'E', 'THR'], ['300', 'E', 'THR'], ['301', 'E', 'ASP'], ['302', 'E', 'TRP'], ['303', 'E', 'ILE'], ['304', 'E', 'ALA'], ['305', 'E', 'ILE'], ['306', 'E', 'TYR'], ['307', 'E', 'GLN'], ['308', 'E', 'ARG'], ['309', 'E', 'LYS'], ['310', 'E', 'VAL'], ['311', 'E', 'GLU'], ['312', 'E', 'ALA'], ['313', 'E', 'PRO'], ['314', 'E', 'PHE'], ['315', 'E', 'ILE'], ['316', 'E', 'PRO'], ['317', 'E', 'LYS'], ['318', 'E', 'PHE'], ['319', 'E', 'LYS'], ['321', 'E', 'PRO'], ['323', 'E', 'ASP'], ['324', 'E', 'THR'], ['325', 'E', 'SER'], ['326', 'E', 'ASN'], ['327', 'E', 'PHE'], ['328', 'E', 'ASP'], ['329', 'E', 'ASP'], ['330', 'E', 'TYR'], ['331', 'E', 'GLU'], ['332', 'E', 'GLU'], ['333', 'E', 'GLU'], ['334', 'E', 'GLU'], ['335', 'E', 'ILE'], ['336', 'E', 'ARG'], ['337', 'E', 'VAL'], ['338', 'E', 'SEP'], ['339', 'E', 'ILE'], ['340', 'E', 'ASN'], ['341', 'E', 'GLU'], ['342', 'E', 'LYS'], ['343', 'E', 'CYS'], ['345', 'E', 'LYS'], ['346', 'E', 'GLU'], ['348', 'E', 'THR'], ['349', 'E', 'GLU']]\n",
      "Number of residues: 239\n"
     ]
    }
   ],
   "metadata": {}
  },
  {
   "cell_type": "markdown",
   "source": [
    "### Visualization of solvent-exposed residues"
   ],
   "metadata": {}
  },
  {
   "cell_type": "code",
   "execution_count": 31,
   "source": [
    "# Visualize interface grid points\n",
    "\n",
    "# Create NGL Viewer widget\n",
    "view = nglview.NGLWidget()\n",
    "\n",
    "# Add protein\n",
    "p1 = view.add_component(target)\n",
    "p1.clear()\n",
    "p1.add_licorice(color=\"black\")\n",
    "\n",
    "# Select solvent-exposed residues\n",
    "selection = f\"{' or '.join([f'({sel[0]} and :{sel[1]})' for sel in residues])}\"\n",
    "\n",
    "# Add interface residues\n",
    "p1.add_licorice(color=\"red\", selection=selection)\n",
    "\n",
    "# Display on NGL viewer\n",
    "view"
   ],
   "outputs": [
    {
     "output_type": "display_data",
     "data": {
      "application/vnd.jupyter.widget-view+json": {
       "version_major": 2,
       "version_minor": 0,
       "model_id": "901da2b3bcaf43509d8f7839f11effda"
      },
      "text/plain": [
       "NGLWidget()"
      ]
     },
     "metadata": {}
    }
   ],
   "metadata": {}
  },
  {
   "cell_type": "markdown",
   "source": [
    "## Exploring SAS representation"
   ],
   "metadata": {}
  },
  {
   "cell_type": "code",
   "execution_count": 32,
   "source": [
    "# Parameters\n",
    "step = 0.6\n",
    "probe = 1.4\n",
    "surface_representation = \"SAS\"\n",
    "\n",
    "# Detect solvent-exposed residues\n",
    "residues = detect(target, surface_representation, step, probe, None, True)\n",
    "\n",
    "# Display list of residues\n",
    "print(\"Solvent-exposed residues: \", end=\"\")\n",
    "print(residues)\n",
    "print(f\"Number of residues: {len(residues)}\")"
   ],
   "outputs": [
    {
     "output_type": "stream",
     "name": "stdout",
     "text": [
      "Solvent-exposed residues: [['13', 'E', 'GLU'], ['14', 'E', 'SER'], ['15', 'E', 'VAL'], ['16', 'E', 'LYS'], ['17', 'E', 'GLU'], ['18', 'E', 'PHE'], ['19', 'E', 'LEU'], ['20', 'E', 'ALA'], ['21', 'E', 'LYS'], ['23', 'E', 'LYS'], ['24', 'E', 'GLU'], ['25', 'E', 'ASP'], ['27', 'E', 'LEU'], ['28', 'E', 'LYS'], ['29', 'E', 'LYS'], ['30', 'E', 'TRP'], ['31', 'E', 'GLU'], ['32', 'E', 'THR'], ['33', 'E', 'PRO'], ['34', 'E', 'SER'], ['35', 'E', 'GLN'], ['36', 'E', 'ASN'], ['37', 'E', 'THR'], ['39', 'E', 'GLN'], ['40', 'E', 'LEU'], ['41', 'E', 'ASP'], ['42', 'E', 'GLN'], ['44', 'E', 'ASP'], ['45', 'E', 'ARG'], ['46', 'E', 'ILE'], ['47', 'E', 'LYS'], ['51', 'E', 'THR'], ['53', 'E', 'SER'], ['54', 'E', 'PHE'], ['56', 'E', 'ARG'], ['57', 'E', 'VAL'], ['58', 'E', 'MET'], ['61', 'E', 'LYS'], ['62', 'E', 'HIS'], ['63', 'E', 'LYS'], ['64', 'E', 'GLU'], ['65', 'E', 'SER'], ['67', 'E', 'ASN'], ['68', 'E', 'HIS'], ['69', 'E', 'TYR'], ['75', 'E', 'ASP'], ['77', 'E', 'GLN'], ['78', 'E', 'LYS'], ['80', 'E', 'VAL'], ['81', 'E', 'LYS'], ['82', 'E', 'LEU'], ['83', 'E', 'LYS'], ['84', 'E', 'GLN'], ['85', 'E', 'ILE'], ['86', 'E', 'GLU'], ['87', 'E', 'HIS'], ['89', 'E', 'LEU'], ['90', 'E', 'ASN'], ['93', 'E', 'ARG'], ['96', 'E', 'GLN'], ['99', 'E', 'ASN'], ['101', 'E', 'PRO'], ['105', 'E', 'LYS'], ['107', 'E', 'GLU'], ['108', 'E', 'PHE'], ['111', 'E', 'LYS'], ['112', 'E', 'ASP'], ['113', 'E', 'ASN'], ['114', 'E', 'SER'], ['121', 'E', 'GLU'], ['127', 'E', 'GLU'], ['129', 'E', 'PHE'], ['130', 'E', 'SER'], ['133', 'E', 'ARG'], ['134', 'E', 'ARG'], ['135', 'E', 'ILE'], ['137', 'E', 'ARG'], ['139', 'E', 'SER'], ['140', 'E', 'GLU'], ['141', 'E', 'PRO'], ['142', 'E', 'HIS'], ['144', 'E', 'ARG'], ['155', 'E', 'GLU'], ['158', 'E', 'HIS'], ['159', 'E', 'SER'], ['161', 'E', 'ASP'], ['168', 'E', 'LYS'], ['170', 'E', 'GLU'], ['173', 'E', 'LEU'], ['175', 'E', 'ASP'], ['176', 'E', 'GLN'], ['177', 'E', 'GLN'], ['181', 'E', 'GLN'], ['183', 'E', 'THR'], ['184', 'E', 'ASP'], ['187', 'E', 'PHE'], ['189', 'E', 'LYS'], ['190', 'E', 'ARG'], ['191', 'E', 'VAL'], ['192', 'E', 'LYS'], ['194', 'E', 'ARG'], ['196', 'E', 'TRP'], ['197', 'E', 'TPO'], ['198', 'E', 'LEU'], ['199', 'E', 'CYS'], ['201', 'E', 'THR'], ['202', 'E', 'PRO'], ['203', 'E', 'GLU'], ['210', 'E', 'ILE'], ['211', 'E', 'LEU'], ['212', 'E', 'SER'], ['213', 'E', 'LYS'], ['216', 'E', 'ASN'], ['217', 'E', 'LYS'], ['235', 'E', 'TYR'], ['236', 'E', 'PRO'], ['239', 'E', 'PHE'], ['240', 'E', 'ALA'], ['241', 'E', 'ASP'], ['242', 'E', 'GLN'], ['243', 'E', 'PRO'], ['244', 'E', 'ILE'], ['245', 'E', 'GLN'], ['247', 'E', 'TYR'], ['248', 'E', 'GLU'], ['249', 'E', 'LYS'], ['251', 'E', 'VAL'], ['252', 'E', 'SER'], ['254', 'E', 'LYS'], ['255', 'E', 'VAL'], ['256', 'E', 'ARG'], ['257', 'E', 'PHE'], ['258', 'E', 'PRO'], ['259', 'E', 'SER'], ['260', 'E', 'HIS'], ['262', 'E', 'SER'], ['263', 'E', 'SER'], ['264', 'E', 'ASP'], ['266', 'E', 'LYS'], ['267', 'E', 'ASP'], ['270', 'E', 'ARG'], ['271', 'E', 'ASN'], ['274', 'E', 'GLN'], ['275', 'E', 'VAL'], ['276', 'E', 'ASP'], ['277', 'E', 'LEU'], ['278', 'E', 'THR'], ['279', 'E', 'LYS'], ['281', 'E', 'PHE'], ['283', 'E', 'ASN'], ['284', 'E', 'LEU'], ['285', 'E', 'LYS'], ['286', 'E', 'ASN'], ['288', 'E', 'VAL'], ['289', 'E', 'ASN'], ['290', 'E', 'ASP'], ['292', 'E', 'LYS'], ['293', 'E', 'ASN'], ['294', 'E', 'HIS'], ['295', 'E', 'LYS'], ['298', 'E', 'ALA'], ['299', 'E', 'THR'], ['301', 'E', 'ASP'], ['302', 'E', 'TRP'], ['303', 'E', 'ILE'], ['304', 'E', 'ALA'], ['305', 'E', 'ILE'], ['306', 'E', 'TYR'], ['307', 'E', 'GLN'], ['308', 'E', 'ARG'], ['309', 'E', 'LYS'], ['310', 'E', 'VAL'], ['311', 'E', 'GLU'], ['312', 'E', 'ALA'], ['313', 'E', 'PRO'], ['314', 'E', 'PHE'], ['315', 'E', 'ILE'], ['317', 'E', 'LYS'], ['319', 'E', 'LYS'], ['321', 'E', 'PRO'], ['323', 'E', 'ASP'], ['324', 'E', 'THR'], ['325', 'E', 'SER'], ['326', 'E', 'ASN'], ['327', 'E', 'PHE'], ['328', 'E', 'ASP'], ['329', 'E', 'ASP'], ['330', 'E', 'TYR'], ['331', 'E', 'GLU'], ['332', 'E', 'GLU'], ['333', 'E', 'GLU'], ['334', 'E', 'GLU'], ['335', 'E', 'ILE'], ['336', 'E', 'ARG'], ['337', 'E', 'VAL'], ['338', 'E', 'SEP'], ['339', 'E', 'ILE'], ['340', 'E', 'ASN'], ['341', 'E', 'GLU'], ['342', 'E', 'LYS'], ['343', 'E', 'CYS'], ['345', 'E', 'LYS'], ['346', 'E', 'GLU'], ['348', 'E', 'THR'], ['349', 'E', 'GLU']]\n",
      "Number of residues: 205\n"
     ]
    }
   ],
   "metadata": {}
  },
  {
   "cell_type": "markdown",
   "source": [
    "### Visualization of solvent-exposed residues"
   ],
   "metadata": {}
  },
  {
   "cell_type": "code",
   "execution_count": 33,
   "source": [
    "# Visualize interface grid points\n",
    "\n",
    "# Create NGL Viewer widget\n",
    "view = nglview.NGLWidget()\n",
    "\n",
    "# Add protein\n",
    "p1 = view.add_component(target)\n",
    "p1.clear()\n",
    "p1.add_licorice(color=\"black\")\n",
    "\n",
    "# Select solvent-exposed residues\n",
    "selection = f\"{' or '.join([f'({sel[0]} and :{sel[1]})' for sel in residues])}\"\n",
    "\n",
    "# Add interface residues\n",
    "p1.add_licorice(color=\"red\", selection=selection)\n",
    "\n",
    "# Display on NGL viewer\n",
    "view"
   ],
   "outputs": [
    {
     "output_type": "display_data",
     "data": {
      "application/vnd.jupyter.widget-view+json": {
       "version_major": 2,
       "version_minor": 0,
       "model_id": "0746f1b76c10435bb5c6bb2ea4da22fd"
      },
      "text/plain": [
       "NGLWidget()"
      ]
     },
     "metadata": {}
    }
   ],
   "metadata": {}
  }
 ],
 "metadata": {
  "interpreter": {
   "hash": "31f2aee4e71d21fbe5cf8b01ff0e069b9275f58929596ceb00d14d90e3e16cd6"
  },
  "kernelspec": {
   "name": "python3",
   "display_name": "Python 3.8.10 64-bit"
  },
  "language_info": {
   "codemirror_mode": {
    "name": "ipython",
    "version": 3
   },
   "file_extension": ".py",
   "mimetype": "text/x-python",
   "name": "python",
   "nbconvert_exporter": "python",
   "pygments_lexer": "ipython3",
   "version": "3.8.10"
  }
 },
 "nbformat": 4,
 "nbformat_minor": 2
}